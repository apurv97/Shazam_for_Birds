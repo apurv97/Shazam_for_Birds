{
 "cells": [
  {
   "cell_type": "code",
   "execution_count": 2,
   "metadata": {},
   "outputs": [],
   "source": [
    "#Include libraries\n",
    "import numpy as np\n",
    "from hmmlearn import hmm\n",
    "import copy\n",
    "from collections import defaultdict\n",
    "from sklearn.metrics import confusion_matrix\n",
    "import warnings\n",
    "import os\n",
    "import glob\n",
    "warnings.filterwarnings(\"ignore\", category=DeprecationWarning)"
   ]
  },
  {
   "cell_type": "code",
   "execution_count": 3,
   "metadata": {},
   "outputs": [],
   "source": [
    "#Function that trains the HMM\n",
    "def GHMM_train(dataset, states = 4, trials = 10,cov = \"diag\",max_iter=1000, randomSeed = 100, min_cov = 1e-3):\n",
    "    rndNum = 10\n",
    "    prob = -np.inf\n",
    "    best_g = None\n",
    "    score = 0\n",
    "    np.random.seed(randomSeed)\n",
    "    random_state = np.random.random(trials)\n",
    "    for i in range(len(random_state)):\n",
    "        state = int(random_state[i]*1000)\n",
    "        g = hmm.GaussianHMM(n_components=states, covariance_type = cov, n_iter=max_iter, min_covar = min_cov)\n",
    "        g.fit(dataset)\n",
    "        score = g.score(dataset)\n",
    "        if score > prob:\n",
    "            prob = score\n",
    "            best_g = copy.deepcopy(g)\n",
    "    return best_g"
   ]
  },
  {
   "cell_type": "code",
   "execution_count": 4,
   "metadata": {},
   "outputs": [],
   "source": [
    "#function that evaluates the HMM\n",
    "def GHMM_evaluate(testset, GMMmodel):\n",
    "    #test set is a list of sets of name-date collections\n",
    "    #GMMmodel is a dictionary of test data\n",
    "    truth = []\n",
    "    pred = []\n",
    "    for dataset in testset:\n",
    "        truth.append(dataset[0])\n",
    "        test_score = -np.inf\n",
    "        pred_name = None\n",
    "        for modelName, model in GMMmodel.items():\n",
    "            score = model.score(dataset[1])\n",
    "            if score > test_score:\n",
    "                test_score = score\n",
    "                pred_name = modelName\n",
    "        pred.append(pred_name)\n",
    "    label = []\n",
    "    for item in truth:\n",
    "        if item not in label:\n",
    "            label.append(item)\n",
    "    matrix = confusion_matrix(truth, pred, labels=label)\n",
    "    print (\"truth: \",truth)\n",
    "    print (\"prediction: \", pred)\n",
    "    print (\"item order in table\", label)\n",
    "    return matrix,truth,pred"
   ]
  },
  {
   "cell_type": "code",
   "execution_count": 5,
   "metadata": {},
   "outputs": [
    {
     "name": "stdout",
     "output_type": "stream",
     "text": [
      "Common_Whitethroat1\n",
      "Red_legged_Seriema1\n",
      "Black_Hawk_Eagle1\n",
      "Red_winged_Blackbird1\n",
      "Mourning_Dove1\n",
      "Sedge_Wren1\n",
      "Mallard1\n"
     ]
    }
   ],
   "source": [
    "f_dir = \"/home/apurv/Desktop/Term_Project\"\n",
    "os.chdir(f_dir)\n",
    "train_list=[]\n",
    "for folder in os.listdir(f_dir):\n",
    "    if folder=='trained':\n",
    "        os.chdir(\"/home/apurv/Desktop/Term_Project/trained\")\n",
    "        for file in os.listdir(os.getcwd()):\n",
    "            train=np.load(file)\n",
    "            amp_freq = [[x[0],x[1]] for x in train]\n",
    "            label=file[:-10]\n",
    "            train_list.append((label,amp_freq))\n",
    "            print(label)\n",
    "#print(train_list)"
   ]
  },
  {
   "cell_type": "code",
   "execution_count": 6,
   "metadata": {},
   "outputs": [],
   "source": [
    "modelDict = dict()\n",
    "for dataset in train_list:\n",
    "    model = GHMM_train(dataset = dataset[1], states = 17, trials = 1,cov = \"diag\",max_iter=100, randomSeed = 120, min_cov = 1e-5)\n",
    "    modelDict[dataset[0]] = model"
   ]
  },
  {
   "cell_type": "code",
   "execution_count": 7,
   "metadata": {},
   "outputs": [
    {
     "name": "stdout",
     "output_type": "stream",
     "text": [
      "Mourning_Dove1\n",
      "Red_legged_Seriema1\n",
      "Mallard1\n",
      "Common_Whitethroat1\n",
      "Sedge_Wren1\n",
      "Common_Whitethroat1\n",
      "Mallard1\n",
      "Black_Hawk_Eagle1\n",
      "Red_winged_Blackbird1\n",
      "Red_winged_Blackbird1\n",
      "Black_Hawk_Eagle1\n",
      "Red_legged_Seriema1\n",
      "Sedge_Wren1\n",
      "Mourning_Dove1\n"
     ]
    }
   ],
   "source": [
    "f_dir = \"/home/apurv/Desktop/Term_Project\"\n",
    "os.chdir(f_dir)\n",
    "test_list=[]\n",
    "for folder in os.listdir(f_dir):\n",
    "    if folder=='testing':\n",
    "        os.chdir(\"/home/apurv/Desktop/Term_Project/testing\")\n",
    "        for file in os.listdir(os.getcwd()):\n",
    "            test=np.load(file)\n",
    "            amp_freq = [[x[0],x[1]] for x in test]\n",
    "            label=file[:-5]\n",
    "            test_list.append((label,amp_freq))\n",
    "            print(label)"
   ]
  },
  {
   "cell_type": "code",
   "execution_count": 8,
   "metadata": {},
   "outputs": [
    {
     "name": "stdout",
     "output_type": "stream",
     "text": [
      "truth:  ['Mourning_Dove1', 'Red_legged_Seriema1', 'Mallard1', 'Common_Whitethroat1', 'Sedge_Wren1', 'Common_Whitethroat1', 'Mallard1', 'Black_Hawk_Eagle1', 'Red_winged_Blackbird1', 'Red_winged_Blackbird1', 'Black_Hawk_Eagle1', 'Red_legged_Seriema1', 'Sedge_Wren1', 'Mourning_Dove1']\n",
      "prediction:  ['Mourning_Dove1', 'Red_legged_Seriema1', 'Red_legged_Seriema1', 'Common_Whitethroat1', 'Sedge_Wren1', 'Common_Whitethroat1', 'Mallard1', 'Black_Hawk_Eagle1', 'Red_winged_Blackbird1', 'Red_legged_Seriema1', 'Red_winged_Blackbird1', 'Red_legged_Seriema1', 'Sedge_Wren1', 'Mourning_Dove1']\n",
      "item order in table ['Mourning_Dove1', 'Red_legged_Seriema1', 'Mallard1', 'Common_Whitethroat1', 'Sedge_Wren1', 'Black_Hawk_Eagle1', 'Red_winged_Blackbird1']\n"
     ]
    },
    {
     "data": {
      "text/plain": [
       "(array([[2, 0, 0, 0, 0, 0, 0],\n",
       "        [0, 2, 0, 0, 0, 0, 0],\n",
       "        [0, 1, 1, 0, 0, 0, 0],\n",
       "        [0, 0, 0, 2, 0, 0, 0],\n",
       "        [0, 0, 0, 0, 2, 0, 0],\n",
       "        [0, 0, 0, 0, 0, 1, 1],\n",
       "        [0, 1, 0, 0, 0, 0, 1]]),\n",
       " ['Mourning_Dove1',\n",
       "  'Red_legged_Seriema1',\n",
       "  'Mallard1',\n",
       "  'Common_Whitethroat1',\n",
       "  'Sedge_Wren1',\n",
       "  'Common_Whitethroat1',\n",
       "  'Mallard1',\n",
       "  'Black_Hawk_Eagle1',\n",
       "  'Red_winged_Blackbird1',\n",
       "  'Red_winged_Blackbird1',\n",
       "  'Black_Hawk_Eagle1',\n",
       "  'Red_legged_Seriema1',\n",
       "  'Sedge_Wren1',\n",
       "  'Mourning_Dove1'],\n",
       " ['Mourning_Dove1',\n",
       "  'Red_legged_Seriema1',\n",
       "  'Red_legged_Seriema1',\n",
       "  'Common_Whitethroat1',\n",
       "  'Sedge_Wren1',\n",
       "  'Common_Whitethroat1',\n",
       "  'Mallard1',\n",
       "  'Black_Hawk_Eagle1',\n",
       "  'Red_winged_Blackbird1',\n",
       "  'Red_legged_Seriema1',\n",
       "  'Red_winged_Blackbird1',\n",
       "  'Red_legged_Seriema1',\n",
       "  'Sedge_Wren1',\n",
       "  'Mourning_Dove1'])"
      ]
     },
     "execution_count": 8,
     "metadata": {},
     "output_type": "execute_result"
    }
   ],
   "source": [
    "GHMM_evaluate(test_list,modelDict)"
   ]
  },
  {
   "cell_type": "code",
   "execution_count": 12,
   "metadata": {},
   "outputs": [
    {
     "name": "stdout",
     "output_type": "stream",
     "text": [
      "Mourning_Dove1\n"
     ]
    }
   ],
   "source": [
    "f_dir = \"/home/apurv/Desktop/Term_Project\"\n",
    "os.chdir(f_dir)\n",
    "test_list=[]\n",
    "count=0\n",
    "for folder in os.listdir(f_dir):\n",
    "    if folder=='testing':\n",
    "        os.chdir(\"/home/apurv/Desktop/Term_Project/testing\")\n",
    "        for file in os.listdir(os.getcwd()):\n",
    "            if count == 0:\n",
    "                test=np.load(file)\n",
    "                amp_freq = [[x[0],x[1]] for x in test]\n",
    "                label=file[:-5]\n",
    "                test_list.append((label,amp_freq))\n",
    "                print(label)\n",
    "            count+=1"
   ]
  },
  {
   "cell_type": "code",
   "execution_count": 13,
   "metadata": {
    "scrolled": false
   },
   "outputs": [
    {
     "name": "stdout",
     "output_type": "stream",
     "text": [
      "truth:  ['Mourning_Dove1']\n",
      "prediction:  ['Mourning_Dove1']\n",
      "item order in table ['Mourning_Dove1']\n",
      "[[1]]\n",
      "prediceted bird image\n"
     ]
    },
    {
     "data": {
      "image/jpeg": "[encoded data removed]",
      "text/plain": [
       "<IPython.core.display.Image object>"
      ]
     },
     "execution_count": 13,
     "metadata": {
      "image/jpeg": {
       "height": 300,
       "width": 300
      }
     },
     "output_type": "execute_result"
    }
   ],
   "source": [
    "from IPython.display import Image\n",
    "from IPython.core.display import HTML\n",
    "cf,t,pred=GHMM_evaluate(test_list,modelDict)\n",
    "print(cf)\n",
    "print('prediceted bird image')\n",
    "Image(filename='/home/apurv/Desktop/Term_Project/img/'+pred[0]+'.jpg',width=300, height=300)"
   ]
  },
  {
   "cell_type": "code",
   "execution_count": 14,
   "metadata": {},
   "outputs": [
    {
     "name": "stdout",
     "output_type": "stream",
     "text": [
      "actual testing bird image\n"
     ]
    },
    {
     "data": {
      "image/jpeg": "[encoded data removed]",
      "text/plain": [
       "<IPython.core.display.Image object>"
      ]
     },
     "execution_count": 14,
     "metadata": {
      "image/jpeg": {
       "height": 300,
       "width": 300
      }
     },
     "output_type": "execute_result"
    }
   ],
   "source": [
    "print('actual testing bird image')\n",
    "Image(filename='/home/apurv/Desktop/Term_Project/img/'+t[0]+'.jpg',width=300, height=300)"
   ]
  },
  {
   "cell_type": "code",
   "execution_count": 8,
   "metadata": {},
   "outputs": [
    {
     "name": "stdout",
     "output_type": "stream",
     "text": [
      "ITER ===  2\n",
      "truth:  ['Mourning_Dove1', 'Red_legged_Seriema1', 'Mallard1', 'Common_Whitethroat1', 'Sedge_Wren1', 'Common_Whitethroat1', 'Mallard1', 'Black_Hawk_Eagle1', 'Red_winged_Blackbird1', 'Red_winged_Blackbird1', 'Black_Hawk_Eagle1', 'Red_legged_Seriema1', 'Sedge_Wren1', 'Mourning_Dove1']\n",
      "prediction:  ['Red_winged_Blackbird1', 'Black_Hawk_Eagle1', 'Sedge_Wren1', 'Common_Whitethroat1', 'Sedge_Wren1', 'Sedge_Wren1', 'Red_legged_Seriema1', 'Black_Hawk_Eagle1', 'Sedge_Wren1', 'Red_winged_Blackbird1', 'Red_winged_Blackbird1', 'Red_legged_Seriema1', 'Common_Whitethroat1', 'Mourning_Dove1']\n",
      "item order in table ['Mourning_Dove1', 'Red_legged_Seriema1', 'Mallard1', 'Common_Whitethroat1', 'Sedge_Wren1', 'Black_Hawk_Eagle1', 'Red_winged_Blackbird1']\n",
      "[[1 0 0 0 0 0 1]\n",
      " [0 1 0 0 0 1 0]\n",
      " [0 1 0 0 1 0 0]\n",
      " [0 0 0 1 1 0 0]\n",
      " [0 0 0 1 1 0 0]\n",
      " [0 0 0 0 0 1 1]\n",
      " [0 0 0 0 1 0 1]]\n",
      "6\n",
      "\n",
      "ITER ===  3\n",
      "truth:  ['Mourning_Dove1', 'Red_legged_Seriema1', 'Mallard1', 'Common_Whitethroat1', 'Sedge_Wren1', 'Common_Whitethroat1', 'Mallard1', 'Black_Hawk_Eagle1', 'Red_winged_Blackbird1', 'Red_winged_Blackbird1', 'Black_Hawk_Eagle1', 'Red_legged_Seriema1', 'Sedge_Wren1', 'Mourning_Dove1']\n",
      "prediction:  ['Sedge_Wren1', 'Red_legged_Seriema1', 'Sedge_Wren1', 'Common_Whitethroat1', 'Sedge_Wren1', 'Sedge_Wren1', 'Red_legged_Seriema1', 'Black_Hawk_Eagle1', 'Sedge_Wren1', 'Mallard1', 'Red_winged_Blackbird1', 'Red_legged_Seriema1', 'Common_Whitethroat1', 'Mourning_Dove1']\n",
      "item order in table ['Mourning_Dove1', 'Red_legged_Seriema1', 'Mallard1', 'Common_Whitethroat1', 'Sedge_Wren1', 'Black_Hawk_Eagle1', 'Red_winged_Blackbird1']\n",
      "[[1 0 0 0 1 0 0]\n",
      " [0 2 0 0 0 0 0]\n",
      " [0 1 0 0 1 0 0]\n",
      " [0 0 0 1 1 0 0]\n",
      " [0 0 0 1 1 0 0]\n",
      " [0 0 0 0 0 1 1]\n",
      " [0 0 1 0 1 0 0]]\n",
      "6\n",
      "\n",
      "ITER ===  4\n",
      "truth:  ['Mourning_Dove1', 'Red_legged_Seriema1', 'Mallard1', 'Common_Whitethroat1', 'Sedge_Wren1', 'Common_Whitethroat1', 'Mallard1', 'Black_Hawk_Eagle1', 'Red_winged_Blackbird1', 'Red_winged_Blackbird1', 'Black_Hawk_Eagle1', 'Red_legged_Seriema1', 'Sedge_Wren1', 'Mourning_Dove1']\n",
      "prediction:  ['Sedge_Wren1', 'Red_legged_Seriema1', 'Red_legged_Seriema1', 'Common_Whitethroat1', 'Sedge_Wren1', 'Sedge_Wren1', 'Red_legged_Seriema1', 'Black_Hawk_Eagle1', 'Sedge_Wren1', 'Red_winged_Blackbird1', 'Red_winged_Blackbird1', 'Red_legged_Seriema1', 'Common_Whitethroat1', 'Mourning_Dove1']\n",
      "item order in table ['Mourning_Dove1', 'Red_legged_Seriema1', 'Mallard1', 'Common_Whitethroat1', 'Sedge_Wren1', 'Black_Hawk_Eagle1', 'Red_winged_Blackbird1']\n",
      "[[1 0 0 0 1 0 0]\n",
      " [0 2 0 0 0 0 0]\n",
      " [0 2 0 0 0 0 0]\n",
      " [0 0 0 1 1 0 0]\n",
      " [0 0 0 1 1 0 0]\n",
      " [0 0 0 0 0 1 1]\n",
      " [0 0 0 0 1 0 1]]\n",
      "7\n",
      "\n",
      "ITER ===  5\n"
     ]
    },
    {
     "ename": "KeyboardInterrupt",
     "evalue": "",
     "output_type": "error",
     "traceback": [
      "\u001b[0;31m---------------------------------------------------------------------------\u001b[0m",
      "\u001b[0;31mKeyboardInterrupt\u001b[0m                         Traceback (most recent call last)",
      "\u001b[0;32m<ipython-input-8-51d300221194>\u001b[0m in \u001b[0;36m<module>\u001b[0;34m()\u001b[0m\n\u001b[1;32m      4\u001b[0m     \u001b[0mprint\u001b[0m\u001b[0;34m(\u001b[0m\u001b[0;34m'ITER === '\u001b[0m\u001b[0;34m,\u001b[0m\u001b[0mi\u001b[0m\u001b[0;34m)\u001b[0m\u001b[0;34m\u001b[0m\u001b[0m\n\u001b[1;32m      5\u001b[0m     \u001b[0;32mfor\u001b[0m \u001b[0mdataset\u001b[0m \u001b[0;32min\u001b[0m \u001b[0mtrain_list\u001b[0m\u001b[0;34m:\u001b[0m\u001b[0;34m\u001b[0m\u001b[0m\n\u001b[0;32m----> 6\u001b[0;31m         \u001b[0mmodel\u001b[0m \u001b[0;34m=\u001b[0m \u001b[0mGHMM_train\u001b[0m\u001b[0;34m(\u001b[0m\u001b[0mdataset\u001b[0m \u001b[0;34m=\u001b[0m \u001b[0mdataset\u001b[0m\u001b[0;34m[\u001b[0m\u001b[0;36m1\u001b[0m\u001b[0;34m]\u001b[0m\u001b[0;34m,\u001b[0m \u001b[0mstates\u001b[0m \u001b[0;34m=\u001b[0m \u001b[0mi\u001b[0m\u001b[0;34m,\u001b[0m \u001b[0mtrials\u001b[0m \u001b[0;34m=\u001b[0m \u001b[0;36m1\u001b[0m\u001b[0;34m,\u001b[0m\u001b[0mcov\u001b[0m \u001b[0;34m=\u001b[0m \u001b[0;34m\"diag\"\u001b[0m\u001b[0;34m,\u001b[0m\u001b[0mmax_iter\u001b[0m\u001b[0;34m=\u001b[0m\u001b[0;36m100\u001b[0m\u001b[0;34m,\u001b[0m \u001b[0mrandomSeed\u001b[0m \u001b[0;34m=\u001b[0m \u001b[0;36m120\u001b[0m\u001b[0;34m,\u001b[0m \u001b[0mmin_cov\u001b[0m \u001b[0;34m=\u001b[0m \u001b[0;36m1e-5\u001b[0m\u001b[0;34m)\u001b[0m\u001b[0;34m\u001b[0m\u001b[0m\n\u001b[0m\u001b[1;32m      7\u001b[0m         \u001b[0mmodelDict\u001b[0m\u001b[0;34m[\u001b[0m\u001b[0mdataset\u001b[0m\u001b[0;34m[\u001b[0m\u001b[0;36m0\u001b[0m\u001b[0;34m]\u001b[0m\u001b[0;34m]\u001b[0m \u001b[0;34m=\u001b[0m \u001b[0mmodel\u001b[0m\u001b[0;34m\u001b[0m\u001b[0m\n\u001b[1;32m      8\u001b[0m     \u001b[0mcf\u001b[0m\u001b[0;34m=\u001b[0m\u001b[0mGHMM_evaluate\u001b[0m\u001b[0;34m(\u001b[0m\u001b[0mtest_list\u001b[0m\u001b[0;34m,\u001b[0m\u001b[0mmodelDict\u001b[0m\u001b[0;34m)\u001b[0m\u001b[0;34m\u001b[0m\u001b[0m\n",
      "\u001b[0;32m<ipython-input-2-27917e679f4b>\u001b[0m in \u001b[0;36mGHMM_train\u001b[0;34m(dataset, states, trials, cov, max_iter, randomSeed, min_cov)\u001b[0m\n\u001b[1;32m     11\u001b[0m         \u001b[0mg\u001b[0m \u001b[0;34m=\u001b[0m \u001b[0mhmm\u001b[0m\u001b[0;34m.\u001b[0m\u001b[0mGaussianHMM\u001b[0m\u001b[0;34m(\u001b[0m\u001b[0mn_components\u001b[0m\u001b[0;34m=\u001b[0m\u001b[0mstates\u001b[0m\u001b[0;34m,\u001b[0m \u001b[0mcovariance_type\u001b[0m \u001b[0;34m=\u001b[0m \u001b[0mcov\u001b[0m\u001b[0;34m,\u001b[0m \u001b[0mn_iter\u001b[0m\u001b[0;34m=\u001b[0m\u001b[0mmax_iter\u001b[0m\u001b[0;34m,\u001b[0m \u001b[0mmin_covar\u001b[0m \u001b[0;34m=\u001b[0m \u001b[0mmin_cov\u001b[0m\u001b[0;34m)\u001b[0m\u001b[0;34m\u001b[0m\u001b[0m\n\u001b[1;32m     12\u001b[0m         \u001b[0;31m#print g.random_state\u001b[0m\u001b[0;34m\u001b[0m\u001b[0;34m\u001b[0m\u001b[0m\n\u001b[0;32m---> 13\u001b[0;31m         \u001b[0mg\u001b[0m\u001b[0;34m.\u001b[0m\u001b[0mfit\u001b[0m\u001b[0;34m(\u001b[0m\u001b[0mdataset\u001b[0m\u001b[0;34m)\u001b[0m\u001b[0;34m\u001b[0m\u001b[0m\n\u001b[0m\u001b[1;32m     14\u001b[0m         \u001b[0mscore\u001b[0m \u001b[0;34m=\u001b[0m \u001b[0mg\u001b[0m\u001b[0;34m.\u001b[0m\u001b[0mscore\u001b[0m\u001b[0;34m(\u001b[0m\u001b[0mdataset\u001b[0m\u001b[0;34m)\u001b[0m\u001b[0;34m\u001b[0m\u001b[0m\n\u001b[1;32m     15\u001b[0m         \u001b[0;32mif\u001b[0m \u001b[0mscore\u001b[0m \u001b[0;34m>\u001b[0m \u001b[0mprob\u001b[0m\u001b[0;34m:\u001b[0m\u001b[0;34m\u001b[0m\u001b[0m\n",
      "\u001b[0;32m/usr/local/lib/python3.5/dist-packages/hmmlearn/base.py\u001b[0m in \u001b[0;36mfit\u001b[0;34m(self, X, lengths)\u001b[0m\n\u001b[1;32m    434\u001b[0m                 \u001b[0mcurr_logprob\u001b[0m \u001b[0;34m+=\u001b[0m \u001b[0mlogprob\u001b[0m\u001b[0;34m\u001b[0m\u001b[0m\n\u001b[1;32m    435\u001b[0m                 \u001b[0mbwdlattice\u001b[0m \u001b[0;34m=\u001b[0m \u001b[0mself\u001b[0m\u001b[0;34m.\u001b[0m\u001b[0m_do_backward_pass\u001b[0m\u001b[0;34m(\u001b[0m\u001b[0mframelogprob\u001b[0m\u001b[0;34m)\u001b[0m\u001b[0;34m\u001b[0m\u001b[0m\n\u001b[0;32m--> 436\u001b[0;31m                 \u001b[0mposteriors\u001b[0m \u001b[0;34m=\u001b[0m \u001b[0mself\u001b[0m\u001b[0;34m.\u001b[0m\u001b[0m_compute_posteriors\u001b[0m\u001b[0;34m(\u001b[0m\u001b[0mfwdlattice\u001b[0m\u001b[0;34m,\u001b[0m \u001b[0mbwdlattice\u001b[0m\u001b[0;34m)\u001b[0m\u001b[0;34m\u001b[0m\u001b[0m\n\u001b[0m\u001b[1;32m    437\u001b[0m                 self._accumulate_sufficient_statistics(\n\u001b[1;32m    438\u001b[0m                     \u001b[0mstats\u001b[0m\u001b[0;34m,\u001b[0m \u001b[0mX\u001b[0m\u001b[0;34m[\u001b[0m\u001b[0mi\u001b[0m\u001b[0;34m:\u001b[0m\u001b[0mj\u001b[0m\u001b[0;34m]\u001b[0m\u001b[0;34m,\u001b[0m \u001b[0mframelogprob\u001b[0m\u001b[0;34m,\u001b[0m \u001b[0mposteriors\u001b[0m\u001b[0;34m,\u001b[0m \u001b[0mfwdlattice\u001b[0m\u001b[0;34m,\u001b[0m\u001b[0;34m\u001b[0m\u001b[0m\n",
      "\u001b[0;32m/usr/local/lib/python3.5/dist-packages/hmmlearn/base.py\u001b[0m in \u001b[0;36m_compute_posteriors\u001b[0;34m(self, fwdlattice, bwdlattice)\u001b[0m\n\u001b[1;32m    483\u001b[0m         \u001b[0mlog_normalize\u001b[0m\u001b[0;34m(\u001b[0m\u001b[0mlog_gamma\u001b[0m\u001b[0;34m,\u001b[0m \u001b[0maxis\u001b[0m\u001b[0;34m=\u001b[0m\u001b[0;36m1\u001b[0m\u001b[0;34m)\u001b[0m\u001b[0;34m\u001b[0m\u001b[0m\n\u001b[1;32m    484\u001b[0m         \u001b[0;32mwith\u001b[0m \u001b[0mnp\u001b[0m\u001b[0;34m.\u001b[0m\u001b[0merrstate\u001b[0m\u001b[0;34m(\u001b[0m\u001b[0munder\u001b[0m\u001b[0;34m=\u001b[0m\u001b[0;34m\"ignore\"\u001b[0m\u001b[0;34m)\u001b[0m\u001b[0;34m:\u001b[0m\u001b[0;34m\u001b[0m\u001b[0m\n\u001b[0;32m--> 485\u001b[0;31m             \u001b[0;32mreturn\u001b[0m \u001b[0mnp\u001b[0m\u001b[0;34m.\u001b[0m\u001b[0mexp\u001b[0m\u001b[0;34m(\u001b[0m\u001b[0mlog_gamma\u001b[0m\u001b[0;34m)\u001b[0m\u001b[0;34m\u001b[0m\u001b[0m\n\u001b[0m\u001b[1;32m    486\u001b[0m \u001b[0;34m\u001b[0m\u001b[0m\n\u001b[1;32m    487\u001b[0m     \u001b[0;32mdef\u001b[0m \u001b[0m_init\u001b[0m\u001b[0;34m(\u001b[0m\u001b[0mself\u001b[0m\u001b[0;34m,\u001b[0m \u001b[0mX\u001b[0m\u001b[0;34m,\u001b[0m \u001b[0mlengths\u001b[0m\u001b[0;34m)\u001b[0m\u001b[0;34m:\u001b[0m\u001b[0;34m\u001b[0m\u001b[0m\n",
      "\u001b[0;31mKeyboardInterrupt\u001b[0m: "
     ]
    }
   ],
   "source": [
    "accuracy=[]\n",
    "for i in range(2,20):\n",
    "    modelDict = dict()\n",
    "    print('ITER === ',i)\n",
    "    for dataset in train_list:\n",
    "        model = GHMM_train(dataset = dataset[1], states = i, trials = 1,cov = \"diag\",max_iter=100, randomSeed = 120, min_cov = 1e-5)\n",
    "        modelDict[dataset[0]] = model\n",
    "    cf=GHMM_evaluate(test_list,modelDict)\n",
    "    acc=0\n",
    "    for a in range(0,len(cf)):\n",
    "        acc=acc+cf[a][a]\n",
    "    print(cf)\n",
    "    print(acc)\n",
    "    accuracy.append(acc)\n",
    "    print()\n",
    "print(accuracy)"
   ]
  }
 ],
 "metadata": {
  "kernelspec": {
   "display_name": "Python 3",
   "language": "python",
   "name": "python3"
  },
  "language_info": {
   "codemirror_mode": {
    "name": "ipython",
    "version": 3
   },
   "file_extension": ".py",
   "mimetype": "text/x-python",
   "name": "python",
   "nbconvert_exporter": "python",
   "pygments_lexer": "ipython3",
   "version": "3.5.2"
  }
 },
 "nbformat": 4,
 "nbformat_minor": 2
}
