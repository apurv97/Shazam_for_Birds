{
 "cells": [
  {
   "cell_type": "code",
   "execution_count": 12,
   "metadata": {},
   "outputs": [],
   "source": [
    "##Include Headers\n",
    "import os      \n",
    "import glob\n",
    "from pydub import AudioSegment\n",
    "import librosa\n",
    "\n",
    "#Directory where mp3 audio files are stored\n",
    "top_dir = os.getcwd()+\n",
    "audio_dir = top_dir+\"/xeno_canto_mp3\"\n",
    "extension = ('*.mp3')\n",
    "\n",
    "#Changes each mp3 file to wav format(Sampling rate 44100, Stereo=Mono and Bit Depth=32)\n",
    "os.chdir(audio_dir)\n",
    "for folder in os.listdir(audio_dir):\n",
    "    os.chdir(folder)\n",
    "    for audio in glob.glob(extension):\n",
    "        wav_filename = top_dir+'/xeno_canto_mp3' + folder + '/out/' + os.path.splitext(os.path.basename(audio))[0] + '.wav'\n",
    "        final_wav_filename = top_dir'/xeno_canto_mp3' + folder + '/' + os.path.splitext(os.path.basename(audio))[0] + '.wav'\n",
    "        AudioSegment.from_file(audio).export(wav_filename, format='wav')\n",
    "        y, s = librosa.load(wav_filename, sr=44100,mono=True)\n",
    "        librosa.output.write_wav(final_wav_filename, y, s)\n",
    "        #print(wav_filename,final_wav_filename)\n",
    "    os.chdir(audio_dir)"
   ]
  }
 ],
 "metadata": {
  "kernelspec": {
   "display_name": "Python 3",
   "language": "python",
   "name": "python3"
  },
  "language_info": {
   "codemirror_mode": {
    "name": "ipython",
    "version": 3
   },
   "file_extension": ".py",
   "mimetype": "text/x-python",
   "name": "python",
   "nbconvert_exporter": "python",
   "pygments_lexer": "ipython3",
   "version": "3.5.2"
  }
 },
 "nbformat": 4,
 "nbformat_minor": 2
}
