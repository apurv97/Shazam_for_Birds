{
 "cells": [
  {
   "cell_type": "code",
   "execution_count": 3,
   "metadata": {
    "scrolled": true
   },
   "outputs": [
    {
     "name": "stdout",
     "output_type": "stream",
     "text": [
      "Red_legged_Seriema\n",
      "Sedge_Wren\n",
      "Black_Hawk_Eagle\n",
      "Red_winged_Blackbird\n",
      "Common_Whitethroat\n",
      "Mourning_Dove\n",
      "Plain_Chachalaca\n",
      "Mallard\n"
     ]
    }
   ],
   "source": [
    "#Import libraries\n",
    "import matplotlib.pyplot as plt\n",
    "from scipy import signal\n",
    "from scipy.io import wavfile\n",
    "import numpy as np\n",
    "import os\n",
    "\n",
    "#A function which preprocesses an audio file\n",
    "#1. Convert an audio file to spectrogram\n",
    "#2. F\n",
    "def preprocess(file):\n",
    "    sample_rate, samples = wavfile.read(file)\n",
    "    frequencies, times, spectrogram = signal.spectrogram(samples, sample_rate)\n",
    "    maxi = np.amax(spectrogram,axis = 0)\n",
    "    indi = np.argmax(spectrogram,axis = 0)\n",
    "    final = np.column_stack([maxi,indi])\n",
    "    np.save(os.path.splitext(os.path.basename(file))[0],final)\n",
    "    \n",
    "top_dir = os.getcwd()\n",
    "new_top_dir = '/home/apurv/Downloads/BirdSoundRecognition-master/shining_final/'\n",
    "os.chdir(new_top_dir)\n",
    "for folder in os.listdir(new_top_dir):\n",
    "    os.chdir(new_top_dir+folder+'/')\n",
    "    print(folder)\n",
    "    for file in os.listdir(os.getcwd()):\n",
    "        preprocess(file)\n",
    "    os.chdir(new_top_dir)\n",
    "os.chdir(top_dir)"
   ]
  },
  {
   "cell_type": "code",
   "execution_count": 4,
   "metadata": {},
   "outputs": [],
   "source": [
    "import glob\n",
    "f_dir = \"/home/apurv/Downloads/BirdSoundRecognition-master/shining_final\"\n",
    "os.chdir(f_dir)\n",
    "extension = ('*.npy')\n",
    "#print(new_top_dir)\n",
    "for folder in os.listdir(f_dir):\n",
    "    os.chdir(os.getcwd()+\"/\"+folder)\n",
    "    count=0\n",
    "    for file in glob.glob(extension):\n",
    "        #print(file)\n",
    "        if count==0:\n",
    "            arrayA=np.load(file)\n",
    "        count+=1\n",
    "    train=int(count*0.8)\n",
    "    test=count-train\n",
    "    n=0\n",
    "    for file in glob.glob(extension):\n",
    "        if n==0:\n",
    "            n+=1\n",
    "            continue\n",
    "        if n < train:\n",
    "            n+=1\n",
    "            arrayB=np.load(file)\n",
    "            arrayA=np.concatenate((arrayA,arrayB))\n",
    "        else:\n",
    "            arrayC=np.load(file)\n",
    "            os.chdir('/home/apurv/Downloads/BirdSoundRecognition-master/test_files')\n",
    "            np.save(folder+str(n),arrayC)\n",
    "            os.chdir('/home/apurv/Downloads/BirdSoundRecognition-master/shining_final/'+folder)\n",
    "            n+=1\n",
    "    os.chdir('/home/apurv/Downloads/BirdSoundRecognition-master/trained')\n",
    "    np.save(folder+'_train',arrayA)\n",
    "    #print(train,test)\n",
    "    os.chdir(f_dir)"
   ]
  }
 ],
 "metadata": {
  "kernelspec": {
   "display_name": "Python 3",
   "language": "python",
   "name": "python3"
  },
  "language_info": {
   "codemirror_mode": {
    "name": "ipython",
    "version": 3
   },
   "file_extension": ".py",
   "mimetype": "text/x-python",
   "name": "python",
   "nbconvert_exporter": "python",
   "pygments_lexer": "ipython3",
   "version": "3.5.2"
  }
 },
 "nbformat": 4,
 "nbformat_minor": 2
}
